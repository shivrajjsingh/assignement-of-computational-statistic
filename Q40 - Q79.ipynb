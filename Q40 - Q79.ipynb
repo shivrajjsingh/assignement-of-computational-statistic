{
  "nbformat": 4,
  "nbformat_minor": 0,
  "metadata": {
    "colab": {
      "provenance": [],
      "include_colab_link": true
    },
    "kernelspec": {
      "name": "python3",
      "display_name": "Python 3"
    },
    "language_info": {
      "name": "python"
    }
  },
  "cells": [
    {
      "cell_type": "markdown",
      "metadata": {
        "id": "view-in-github",
        "colab_type": "text"
      },
      "source": [
        "<a href=\"https://colab.research.google.com/github/shivrajjsingh/assignement-of-computational-statistic/blob/main/Q40%20-%20Q79.ipynb\" target=\"_parent\"><img src=\"https://colab.research.google.com/assets/colab-badge.svg\" alt=\"Open In Colab\"/></a>"
      ]
    },
    {
      "cell_type": "code",
      "source": [
        "#40. Create a program that captures and logs exceptions thrown in a mathematical computation.\n",
        "\n",
        "import logging\n",
        "\n",
        "def divide(a, b):\n",
        "    if b == 0:\n",
        "        raise ZeroDivisionError(\"Division by zero\")\n",
        "    return a / b\n",
        "\n",
        "if __name__ == \"__main__\":\n",
        "    logging.basicConfig(filename='error_log.txt', level=logging.ERROR)\n",
        "\n",
        "    try:\n",
        "        result = divide(10, 0)\n",
        "        print(result)\n",
        "    except ZeroDivisionError as e:\n",
        "        logging.error(f\"Error: {str(e)}\")\n",
        "        print(\"Error: Division by zero\")"
      ],
      "metadata": {
        "id": "DawmAyDR8wMw",
        "colab": {
          "base_uri": "https://localhost:8080/"
        },
        "outputId": "f15d8f3f-8927-4ea3-dc3b-751cdd148e31"
      },
      "execution_count": null,
      "outputs": [
        {
          "output_type": "stream",
          "name": "stderr",
          "text": [
            "ERROR:root:Error: Division by zero\n"
          ]
        },
        {
          "output_type": "stream",
          "name": "stdout",
          "text": [
            "Error: Division by zero\n"
          ]
        }
      ]
    },
    {
      "cell_type": "code",
      "source": [
        "#41.Define a class for a Rectangle that calculates the area and perimeter.\n",
        "\n",
        "class Rectangle:\n",
        "    def __init__(self, length, width):\n",
        "        self.length = length\n",
        "        self.width = width\n",
        "\n",
        "    def area(self):\n",
        "        return self.length * self.width\n",
        "\n",
        "    def perimeter(self):\n",
        "        return 2 * (self.length + self.width)"
      ],
      "metadata": {
        "id": "VeAy4ZvtYr6L"
      },
      "execution_count": null,
      "outputs": []
    },
    {
      "cell_type": "code",
      "source": [
        "#42.    Create a class that models a BankAccount with methods to deposit and withdraw funds.\n",
        "\n",
        "class BankAccount:\n",
        "    def __init__(self, initial_balance=0):\n",
        "        self.balance = initial_balance\n",
        "\n",
        "    def deposit(self, amount):\n",
        "        if amount > 0:\n",
        "            self.balance += amount\n",
        "            print(f\"Deposited {amount} rupees. New balance: {self.balance}\")\n",
        "        else:\n",
        "            print(\"Invalid deposit amount\")\n",
        "\n",
        "    def withdraw(self, amount):\n",
        "        if 0 < amount <= self.balance:\n",
        "            self.balance -= amount\n",
        "            print(f\"Withdrew {amount} rupees. New balance: {self.balance}\")\n",
        "        elif amount > self.balance:\n",
        "            print(\"Insufficient balance\")\n",
        "        else:\n",
        "            print(\"Invalid withdrawal amount\")"
      ],
      "metadata": {
        "id": "s8F2q62xY8hu"
      },
      "execution_count": null,
      "outputs": []
    },
    {
      "cell_type": "code",
      "source": [
        "#43.Implement inheritance by creating a Circle class that inherits from a Shape class.\n",
        "\n",
        "class Shape:\n",
        "    def __init__(self, color):\n",
        "        self.color = color\n",
        "\n",
        "    def get_color(self):\n",
        "        return self.color\n",
        "\n",
        "class Circle(Shape):\n",
        "    def __init__(self, color, radius):\n",
        "        super().__init__(color)\n",
        "        self.radius = radius\n",
        "\n",
        "    def get_area(self):\n",
        "        return 3.14159 * self.radius**2"
      ],
      "metadata": {
        "id": "exHGv8ULZMaK"
      },
      "execution_count": null,
      "outputs": []
    },
    {
      "cell_type": "code",
      "source": [
        "#44.    Write a program that demonstrates encapsulation through private class members.\n",
        "\n",
        "class EncapsulationExample:\n",
        "    def __init__(self, private_value):\n",
        "        self.__private_value = private_value  # Private attribute\n",
        "\n",
        "    def get_private_value(self):\n",
        "        return self.__private_value\n",
        "\n",
        "    def set_private_value(self, new_value):\n",
        "        self.__private_value = new_value\n",
        "\n",
        "obj = EncapsulationExample(10)\n",
        "print(obj.get_private_value())\n",
        "\n",
        "obj.set_private_value(20)\n",
        "print(obj.get_private_value())"
      ],
      "metadata": {
        "colab": {
          "base_uri": "https://localhost:8080/"
        },
        "id": "BVH5AC9oZzPP",
        "outputId": "c1edbc44-5cb0-4b72-b8ab-9a335ca5625a"
      },
      "execution_count": null,
      "outputs": [
        {
          "output_type": "stream",
          "name": "stdout",
          "text": [
            "10\n",
            "20\n"
          ]
        }
      ]
    },
    {
      "cell_type": "code",
      "source": [
        "#45. Create an abstract class Animal with subclasses for Dog and Cat.\n",
        "\n",
        "class Animal:\n",
        "    def make_sound(self):\n",
        "        pass\n",
        "\n",
        "class Dog(Animal):\n",
        "    def make_sound(self):\n",
        "        print(\"Woof!\")\n",
        "\n",
        "class Cat(Animal):\n",
        "    def make_sound(self):\n",
        "        print(\"Meow!\")"
      ],
      "metadata": {
        "id": "E265g-QiaKR4"
      },
      "execution_count": null,
      "outputs": []
    },
    {
      "cell_type": "code",
      "source": [
        "#46. Implement a binary search algorithm on a sorted list of numbers.\n",
        "\n",
        "def binary_search(arr, x):\n",
        "    low = 0\n",
        "    high = len(arr) - 1\n",
        "    mid = 0\n",
        "\n",
        "    while low <= high:\n",
        "        mid = (high + low) // 2\n",
        "\n",
        "        if arr[mid] < x:\n",
        "            low = mid + 1\n",
        "        elif arr[mid] > x:\n",
        "            high = mid - 1\n",
        "        else:\n",
        "            return mid\n",
        "    return -1"
      ],
      "metadata": {
        "id": "ECe_5Ux6acdi"
      },
      "execution_count": null,
      "outputs": []
    },
    {
      "cell_type": "code",
      "source": [
        "#47.    Write a sorting algorithm (e.g., bubble sort) and test its functionality.\n",
        "\n",
        "def bubble_sort(arr):\n",
        "    n = len(arr)\n",
        "    for i in range(n):\n",
        "        for j in range(0, n-i-1):\n",
        "            if arr[j] > arr[j+1] :\n",
        "                arr[j], arr[j+1] = arr[j+1], arr[j]\n",
        "\n",
        "arr = [64, 34, 25, 12, 22, 11, 90]\n",
        "bubble_sort(arr)\n",
        "print(arr)"
      ],
      "metadata": {
        "colab": {
          "base_uri": "https://localhost:8080/"
        },
        "id": "fQyTt-k8at9f",
        "outputId": "868164fc-df14-4477-91cf-d75c6c3cb641"
      },
      "execution_count": null,
      "outputs": [
        {
          "output_type": "stream",
          "name": "stdout",
          "text": [
            "[11, 12, 22, 25, 34, 64, 90]\n"
          ]
        }
      ]
    },
    {
      "cell_type": "code",
      "source": [
        "#48.    Create a program that utilizes a hashtable to store and retrieve key-value pairs.\n",
        "\n",
        "hash_table = {}\n",
        "\n",
        "def add(key, value):\n",
        "    hash_table[key] = value\n",
        "\n",
        "def get(key):\n",
        "    return hash_table.get(key)\n",
        "\n",
        "add(\"name\", \"Alice\")\n",
        "add(\"age\", 30)\n",
        "\n",
        "print(get(\"name\"))\n",
        "print(get(\"age\"))"
      ],
      "metadata": {
        "colab": {
          "base_uri": "https://localhost:8080/"
        },
        "id": "Kwm4PW2PbAPU",
        "outputId": "07fbdb1e-0437-4d2d-853e-7a7d25f0b5ef"
      },
      "execution_count": null,
      "outputs": [
        {
          "output_type": "stream",
          "name": "stdout",
          "text": [
            "Alice\n",
            "30\n"
          ]
        }
      ]
    },
    {
      "cell_type": "code",
      "source": [
        "#49.    Develop a function that sorts a list of dictionaries based on the values of a specific key.\n",
        "\n",
        "def sort_by_key(list_of_dicts, key):\n",
        "    return sorted(list_of_dicts, key=lambda x: x[key])\n",
        "\n",
        "# Example usage\n",
        "data = [{'name': 'Alice', 'age': 30}, {'name': 'Bob', 'age': 25}, {'name': 'Charlie', 'age': 35}]\n",
        "sorted_data = sort_by_key(data, 'age')\n",
        "print(sorted_data)"
      ],
      "metadata": {
        "colab": {
          "base_uri": "https://localhost:8080/"
        },
        "id": "cgaTCQdxbaKj",
        "outputId": "1146c762-07e4-4252-f963-a6e85050fdc0"
      },
      "execution_count": null,
      "outputs": [
        {
          "output_type": "stream",
          "name": "stdout",
          "text": [
            "[{'name': 'Bob', 'age': 25}, {'name': 'Alice', 'age': 30}, {'name': 'Charlie', 'age': 35}]\n"
          ]
        }
      ]
    },
    {
      "cell_type": "code",
      "source": [
        "#50.    Write a program that implements a breadth-first search for a graph structure.\n",
        "\n",
        "from collections import deque\n",
        "\n",
        "def bfs(graph, start):\n",
        "    visited = set()\n",
        "    queue = deque([start])\n",
        "    while queue:\n",
        "        vertex = queue.popleft()\n",
        "        if vertex not in visited:\n",
        "            visited.add(vertex)\n",
        "            print(vertex, end=\" \")\n",
        "            for neighbor in graph[vertex]:\n",
        "                queue.append(neighbor)\n",
        "\n",
        "# Example usage\n",
        "graph = {\n",
        "    'A': ['B', 'C'],\n",
        "    'B': ['D', 'E'],\n",
        "    'C': ['F'],\n",
        "    'D': [],\n",
        "    'E': ['F'],\n",
        "    'F': []\n",
        "}\n",
        "\n",
        "bfs(graph, 'A')"
      ],
      "metadata": {
        "colab": {
          "base_uri": "https://localhost:8080/"
        },
        "id": "RAUJ4iU9bnWI",
        "outputId": "137c9ac2-2c08-476a-e2cd-6ff7334cb6b0"
      },
      "execution_count": null,
      "outputs": [
        {
          "output_type": "stream",
          "name": "stdout",
          "text": [
            "A B C D E F "
          ]
        }
      ]
    },
    {
      "cell_type": "code",
      "source": [
        "#51.    Use Matplotlib to plot a simple line graph representing a mathematical function.\n",
        "\n",
        "import matplotlib.pyplot as plt\n",
        "import numpy as np\n",
        "\n",
        "x = np.linspace(0, 10, 100)\n",
        "y = np.sin(x)\n",
        "\n",
        "plt.plot(x, y)\n",
        "plt.xlabel('x')\n",
        "plt.ylabel('sin(x)')\n",
        "plt.title('Sine Wave')\n",
        "plt.show()"
      ],
      "metadata": {
        "colab": {
          "base_uri": "https://localhost:8080/",
          "height": 227
        },
        "id": "6oi2rqdAbzQU",
        "outputId": "7486dcd4-5746-41ed-f25c-e3a885bad4ab"
      },
      "execution_count": null,
      "outputs": [
        {
          "output_type": "display_data",
          "data": {
            "text/plain": [
              "<Figure size 640x480 with 1 Axes>"
            ],
            "image/png": "[encoded data removed]"
          },
          "metadata": {}
        }
      ]
    },
    {
      "cell_type": "code",
      "source": [
        "#52.    Create a program that plots a scatter plot for random data points.\n",
        "\n",
        "import matplotlib.pyplot as plt\n",
        "import numpy as np\n",
        "\n",
        "x = np.random.rand(100)\n",
        "y = np.random.rand(100)\n",
        "\n",
        "plt.scatter(x, y)\n",
        "plt.xlabel('X-axis')\n",
        "plt.ylabel('Y-axis')\n",
        "plt.title('Random Scatter Plot')\n",
        "plt.show()"
      ],
      "metadata": {
        "colab": {
          "base_uri": "https://localhost:8080/",
          "height": 234
        },
        "id": "CBm4FYGbb-B-",
        "outputId": "657ef6dc-6d9f-48cb-dee9-38f8e8c81c5b"
      },
      "execution_count": null,
      "outputs": [
        {
          "output_type": "display_data",
          "data": {
            "text/plain": [
              "<Figure size 640x480 with 1 Axes>"
            ],
            "image/png": "[encoded data removed]"
          },
          "metadata": {}
        }
      ]
    },
    {
      "cell_type": "code",
      "source": [
        "#53.Implement a bar chart visualizing sales data over a month.\n",
        "\n",
        "import matplotlib.pyplot as plt\n",
        "import numpy as np\n",
        "\n",
        "months = ['Jan', 'Feb', 'Mar', 'Apr', 'May', 'Jun']\n",
        "sales = [1000, 1500, 1200, 1800, 2000, 1600]\n",
        "\n",
        "plt.bar(months, sales)\n",
        "plt.xlabel('Month')\n",
        "plt.ylabel('Sales')\n",
        "plt.title('Monthly Sales')\n",
        "plt.show()"
      ],
      "metadata": {
        "colab": {
          "base_uri": "https://localhost:8080/",
          "height": 230
        },
        "id": "q0IJhtvYcKLz",
        "outputId": "79ea1bef-21d9-45d9-b998-7ae133ee0c1f"
      },
      "execution_count": null,
      "outputs": [
        {
          "output_type": "display_data",
          "data": {
            "text/plain": [
              "<Figure size 640x480 with 1 Axes>"
            ],
            "image/png": "[encoded data removed]"
          },
          "metadata": {}
        }
      ]
    },
    {
      "cell_type": "code",
      "source": [
        "#54.    Write a program that demonstrates plotting the Fibonacci sequence with PyLab.\n",
        "\n",
        "import matplotlib.pyplot as plt\n",
        "import numpy as np\n",
        "\n",
        "def fibonacci(n):\n",
        "    if n <= 0:\n",
        "        return 0\n",
        "    elif n == 1:\n",
        "        return 1\n",
        "    else:\n",
        "        return fibonacci(n-1) + fibonacci(n-2)\n",
        "\n",
        "n = 10\n",
        "x = np.arange(n)\n",
        "y = [fibonacci(i) for i in x]\n",
        "\n",
        "plt.plot(x, y)\n",
        "plt.xlabel('Index')\n",
        "plt.ylabel('Fibonacci Number')\n",
        "plt.title('Fibonacci Sequence')\n",
        "plt.show()"
      ],
      "metadata": {
        "colab": {
          "base_uri": "https://localhost:8080/",
          "height": 236
        },
        "id": "nBgIHHSzcWnW",
        "outputId": "898684e7-d56d-473b-e9f9-f4e95b6d0d17"
      },
      "execution_count": null,
      "outputs": [
        {
          "output_type": "display_data",
          "data": {
            "text/plain": [
              "<Figure size 640x480 with 1 Axes>"
            ],
            "image/png": "[encoded data removed]"
          },
          "metadata": {}
        }
      ]
    },
    {
      "cell_type": "code",
      "source": [
        "#55.    Create a function that plots the trajectory of a projectile motion.\n",
        "\n",
        "import matplotlib.pyplot as plt\n",
        "import numpy as np\n",
        "\n",
        "def projectile_motion(v0, theta, g=9.81):\n",
        "    theta = theta * np.pi / 180\n",
        "    t_flight = 2 * v0 * np.sin(theta) / g\n",
        "    t = np.linspace(0, t_flight, 100)\n",
        "    x = v0 * np.cos(theta) * t\n",
        "    y = v0 * np.sin(theta) * t - 0.5 * g * t**2\n",
        "    plt.plot(x, y)\n",
        "    plt.xlabel('x')\n",
        "    plt.ylabel('y')\n",
        "    plt.title('Projectile Motion')\n",
        "    plt.show()\n",
        "\n",
        "v0 = 50\n",
        "theta = 45\n",
        "projectile_motion(v0, theta)"
      ],
      "metadata": {
        "colab": {
          "base_uri": "https://localhost:8080/",
          "height": 236
        },
        "id": "o3q_FMLqchjA",
        "outputId": "958f023d-b6a6-4113-f564-8d695d43a1ad"
      },
      "execution_count": null,
      "outputs": [
        {
          "output_type": "display_data",
          "data": {
            "text/plain": [
              "<Figure size 640x480 with 1 Axes>"
            ],
            "image/png": "[encoded data removed]"
          },
          "metadata": {}
        }
      ]
    },
    {
      "cell_type": "code",
      "source": [
        "#56.    Implement the 0/1 knapsack algorithm to solve a simple problem.\n",
        "\n",
        "def knapsack(W, wt, val, n):\n",
        "    K = [[0 for x in range(W+1)] for x in range(n+1)]\n",
        "    for i in range(n+1):\n",
        "        for w in range(W+1):\n",
        "            if i==0 or w==0:\n",
        "                K[i][w] = 0\n",
        "            elif wt[i-1] <= w:\n",
        "                K[i][w] = max(val[i-1] + K[i-1][w-wt[i-1]],  K[i-1][w])\n",
        "            else:\n",
        "                K[i][w] = K[i-1][w]\n",
        "    return K[n][W]\n",
        "\n",
        "val = [60, 100, 120]\n",
        "wt = [10, 20, 30]\n",
        "W = 50\n",
        "n = len(val)\n",
        "print(knapsack(W, wt, val, n))"
      ],
      "metadata": {
        "colab": {
          "base_uri": "https://localhost:8080/"
        },
        "id": "NZoJcfp6ctaN",
        "outputId": "0234f741-4391-43bc-d2ab-fa73a0ee4c02"
      },
      "execution_count": null,
      "outputs": [
        {
          "output_type": "stream",
          "name": "stdout",
          "text": [
            "220\n"
          ]
        }
      ]
    },
    {
      "cell_type": "code",
      "source": [
        "#57.    Write a dynamic programming solution for finding the longest common subsequence.\n",
        "\n",
        "def lcs(X, Y, m, n):\n",
        "    L = [[0 for x in range(n+1)] for x in range(m+1)]\n",
        "\n",
        "    for i in range(m+1):\n",
        "        for j in range(n+1):\n",
        "            if i == 0 or j == 0:\n",
        "                L[i][j] = 0\n",
        "            elif X[i-1] == Y[j-1]:\n",
        "                L[i][j] = L[i-1][j-1] + 1\n",
        "            else:\n",
        "                L[i][j] = max(L[i-1][j], L[i][j-1])\n",
        "\n",
        "    return L[m][n]\n",
        "\n",
        "X = \"AGGTAB\"\n",
        "Y = \"GXTXAYB\"\n",
        "m = len(X)\n",
        "n = len(Y)\n",
        "print(\"Length of LCS is\", lcs(X, Y, m, n))"
      ],
      "metadata": {
        "colab": {
          "base_uri": "https://localhost:8080/"
        },
        "id": "BkCYL0Udc5TU",
        "outputId": "a372ced9-c7be-4e80-884f-5f81ea5a4226"
      },
      "execution_count": null,
      "outputs": [
        {
          "output_type": "stream",
          "name": "stdout",
          "text": [
            "Length of LCS is 4\n"
          ]
        }
      ]
    },
    {
      "cell_type": "code",
      "source": [
        "#58.    Create a program to visualize dynamic programming approaches for the Fibonacci sequence.\n",
        "\n",
        "import matplotlib.pyplot as plt\n",
        "import numpy as np\n",
        "\n",
        "def fib_dp(n):\n",
        "    fib_numbers = [0, 1]\n",
        "    for i in range(2, n+1):\n",
        "        fib_numbers.append(fib_numbers[i-1] + fib_numbers[i-2])\n",
        "    return fib_numbers\n",
        "\n",
        "n = 10\n",
        "fib_nums = fib_dp(n)\n",
        "x = np.arange(n+1)\n",
        "\n",
        "plt.plot(x, fib_nums)\n",
        "plt.xlabel('Index')\n",
        "plt.ylabel('Fibonacci Number')\n",
        "plt.title('Fibonacci Sequence (Dynamic Programming)')\n",
        "plt.show()"
      ],
      "metadata": {
        "colab": {
          "base_uri": "https://localhost:8080/",
          "height": 236
        },
        "id": "bkNPRMCXdCep",
        "outputId": "b495916a-157e-49df-eaf4-258eaa21c81d"
      },
      "execution_count": null,
      "outputs": [
        {
          "output_type": "display_data",
          "data": {
            "text/plain": [
              "<Figure size 640x480 with 1 Axes>"
            ],
            "image/png": "[encoded data removed]"
          },
          "metadata": {}
        }
      ]
    },
    {
      "cell_type": "code",
      "source": [
        "#59.    Develop a divide-and-conquer algorithm to sort an array.\n",
        "\n",
        "def merge(left, right):\n",
        "    result = []\n",
        "    i, j = 0, 0\n",
        "    while i < len(left) and j < len(right):\n",
        "        result.append(left[i] if left[i] <= right[j] else right[j])\n",
        "        i += left[i] <= right[j]\n",
        "        j += left[i] > right[j]\n",
        "    result += left[i:]\n",
        "    result += right[j:]\n",
        "    return result\n",
        "\n",
        "def merge_sort(arr):\n",
        "    if len(arr) <= 1:\n",
        "        return arr\n",
        "    mid = len(arr) // 2\n",
        "    left_half = arr[:mid]\n",
        "    right_half = arr[mid:]\n",
        "    left_half = merge_sort(left_half)\n",
        "    right_half = merge_sort(right_half)\n",
        "    return merge(left_half, right_half)\n",
        "\n",
        "arr = [38, 27, 43, 3, 9, 82,]\n",
        "sorted_arr = merge_sort(arr)\n",
        "print(sorted_arr)"
      ],
      "metadata": {
        "id": "keOI_ra0dSRR"
      },
      "execution_count": null,
      "outputs": []
    },
    {
      "cell_type": "code",
      "source": [
        "#60.    Write a Python function that uses memoization to optimize a recursive problem.\n",
        "\n",
        "def fib_memo(n, memo={}):\n",
        "    if n in memo:\n",
        "        return memo[n]\n",
        "    if n <= 1:\n",
        "        return n\n",
        "    memo[n] = fib_memo(n-1, memo) + fib_memo(n-2, memo)\n",
        "    return memo[n]"
      ],
      "metadata": {
        "id": "e-FuZ1nDdnbc"
      },
      "execution_count": null,
      "outputs": []
    },
    {
      "cell_type": "code",
      "source": [
        "#61.    Create an application that manages a library system with classes for Book and Library.\n",
        "\n",
        "class Book:\n",
        "    def __init__(self, title, author, isbn):\n",
        "        self.title = title\n",
        "        self.author = author\n",
        "        self.isbn = isbn\n",
        "        self.is_available = True\n",
        "\n",
        "class Library:\n",
        "    def __init__(self):\n",
        "        self.books = []\n",
        "\n",
        "    def add_book(self, book):\n",
        "        self.books.append(book)\n",
        "\n",
        "    def remove_book(self, isbn):\n",
        "        for i, book in enumerate(self.books):\n",
        "            if book.isbn == isbn:\n",
        "                del self.books[i]\n",
        "                break\n",
        "\n",
        "    def search_book(self, title):\n",
        "        for book in self.books:\n",
        "            if book.title == title:\n",
        "                return book\n",
        "        return None\n",
        "\n",
        "library = Library()\n",
        "\n",
        "book1 = Book(\"The Lord of the Rings\", \"J.R.R. Tolkien\", \"9780547991029\")\n",
        "book2 = Book(\"Pride and Prejudice\", \"Jane Austen\", \"9780141439487\")\n",
        "\n",
        "library.add_book(book1)\n",
        "library.add_book(book2)\n",
        "\n",
        "search_result = library.search_book(\"Pride and Prejudice\")\n",
        "if search_result:\n",
        "    print(f\"Found book: {search_result.title} by {search_result.author}\")\n",
        "else:\n",
        "    print(\"Book not found\")"
      ],
      "metadata": {
        "colab": {
          "base_uri": "https://localhost:8080/"
        },
        "id": "-oLMqVladx_Q",
        "outputId": "d1922682-91af-4ed5-d249-aae74567e4bc"
      },
      "execution_count": null,
      "outputs": [
        {
          "output_type": "stream",
          "name": "stdout",
          "text": [
            "Found book: Pride and Prejudice by Jane Austen\n"
          ]
        }
      ]
    },
    {
      "cell_type": "code",
      "source": [
        "#62.    Implement a simple game (e.g., Guess the Number) using branching and loops.\n",
        "\n",
        "import random\n",
        "\n",
        "def guess_the_number():\n",
        "    number = random.randint(1, 100)\n",
        "    guess = 0\n",
        "    attempts = 0\n",
        "\n",
        "    while guess != number:\n",
        "        guess = int(input(\"Guess a number between 1 and 100: \"))\n",
        "        attempts += 1\n",
        "\n",
        "        if guess < number:\n",
        "            print(\"Too low. Try again.\")\n",
        "        elif guess > number:\n",
        "            print(\"Too high. Try again.\")\n",
        "        else:\n",
        "            print(f\"Congratulations! You guessed the number in {attempts} attempts.\")\n",
        "\n",
        "guess_the_number()"
      ],
      "metadata": {
        "colab": {
          "base_uri": "https://localhost:8080/"
        },
        "id": "bRI6PgO-d_j9",
        "outputId": "0701295c-f06f-40cb-b609-7b1f73a4b215"
      },
      "execution_count": null,
      "outputs": [
        {
          "output_type": "stream",
          "name": "stdout",
          "text": [
            "Guess a number between 1 and 100: 55\n",
            "Too low. Try again.\n",
            "Guess a number between 1 and 100: 67\n",
            "Too low. Try again.\n",
            "Guess a number between 1 and 100: 94\n",
            "Too high. Try again.\n",
            "Guess a number between 1 and 100: 86\n",
            "Congratulations! You guessed the number in 4 attempts.\n"
          ]
        }
      ]
    },
    {
      "cell_type": "code",
      "source": [
        "#63.    Write a Python program that scrapes data from a website and processes it.\n",
        "\n",
        "import requests\n",
        "from bs4 import BeautifulSoup\n",
        "\n",
        "def scrape_website(url):\n",
        "    response = requests.get(url)\n",
        "    soup = BeautifulSoup(response.content, 'html.parser')\n",
        "    products = soup.find_all('div', class_='product-item')\n",
        "    for product in products:\n",
        "        title = product.find('h2', class_='product-title').text.strip()\n",
        "        price = product.find('span', class_='price').text.strip()\n",
        "        print(f\"Product: {title}\")\n",
        "        print(f\"Price: {price}\")\n",
        "        print()\n",
        "\n",
        "url = 'https://example.com'\n",
        "scrape_website(url)"
      ],
      "metadata": {
        "id": "3v-0Wi5jeUnH"
      },
      "execution_count": null,
      "outputs": []
    },
    {
      "cell_type": "code",
      "source": [
        "#64.    Develop a weather application that retrieves data from an API and displays it using plots.\n",
        "\n",
        "import requests\n",
        "import matplotlib.pyplot as plt\n",
        "import json\n",
        "\n",
        "def get_weather_data(city):\n",
        "    api_key = \"YOUR_API_KEY\"  # Replace with your actual API key\n",
        "    url = f\"https://api.openweathermap.org/data/2.5/weather?q={city}&appid={api_key}&units=metric\"\n",
        "    response = requests.get(url)\n",
        "    data = json.loads(response.text)\n",
        "    return data\n",
        "\n",
        "def plot_weather_data(data):\n",
        "    temperature = data['main']['temp']\n",
        "    humidity = data['main']['humidity']\n",
        "    pressure = data['main']['pressure']\n",
        "\n",
        "    plt.figure(figsize=(10, 6))\n",
        "    plt.bar(['Temperature', 'Humidity', 'Pressure'], [temperature, humidity, pressure])\n",
        "    plt.xlabel('Weather Parameter')\n",
        "    plt.ylabel('Value')\n",
        "    plt.title(f'Weather in {data[\"name\"]}')\n",
        "    plt.show()\n",
        "\n",
        "city = input(\"Enter city name: \")\n",
        "weather_data = get_weather_data(city)\n",
        "plot_weather_data(weather_data)"
      ],
      "metadata": {
        "id": "OeTNrCYJeg0T"
      },
      "execution_count": null,
      "outputs": []
    },
    {
      "cell_type": "code",
      "source": [
        "#65.    Create a ToDo application using classes and file handling to save tasks.\n",
        "\n",
        "import json\n",
        "\n",
        "class Task:\n",
        "    def __init__(self, title, description, due_date):\n",
        "        self.title = title\n",
        "        self.description = description\n",
        "        self.due_date = due_date\n",
        "        self.completed = False\n",
        "\n",
        "class ToDoList:\n",
        "    def __init__(self, filename):\n",
        "        self.filename = filename\n",
        "        self.load_tasks()\n",
        "\n",
        "    def load_tasks(self):\n",
        "        try:\n",
        "            with open(self.filename, 'r') as f:\n",
        "                self.tasks = json.load(f)\n",
        "        except FileNotFoundError:\n",
        "            self.tasks = []\n",
        "\n",
        "    def save_tasks(self):\n",
        "        with open(self.filename, 'w') as f:\n",
        "            json.dump(self.tasks, f, indent=4)\n",
        "\n",
        "    def add_task(self, title, description, due_date):\n",
        "        task = Task(title, description, due_date)\n",
        "        self.tasks.append(task)\n",
        "        self.save_tasks()\n",
        "\n",
        "    def mark_task_completed(self, index):\n",
        "        self.tasks[index].completed = True\n",
        "        self.save_tasks()\n",
        "\n",
        "    def remove_task(self, index):\n",
        "        del self.tasks[index]\n",
        "        self.save_tasks()\n",
        "\n",
        "    def display_tasks(self):\n",
        "        for i, task in enumerate(self.tasks):\n",
        "            status = \"Completed\" if task.completed else \"Pending\"\n",
        "            print(f\"{i+1}. {task.title} ({status}) - Due: {task.due_date}\")\n",
        "\n",
        "# Example usage\n",
        "todo_list = ToDoList('todo_list.json')\n",
        "\n",
        "todo_list.add_task(\"Buy groceries\", \"Milk, eggs, bread\", \"2023-12-05\")\n",
        "todo_list.add_task(\"Finish project report\", \"Write conclusion and references\", \"2023-12-10\")\n",
        "\n",
        "todo_list.display_tasks()"
      ],
      "metadata": {
        "id": "YYZUD0hjewcR"
      },
      "execution_count": null,
      "outputs": []
    },
    {
      "cell_type": "code",
      "source": [
        "#66.    Write a function that converts a number to its binary string representation.\n",
        "\n",
        "def decimal_to_binary(n):\n",
        "    binary = \"\"\n",
        "    while n > 0:\n",
        "        binary = str(n % 2) + binary\n",
        "        n //= 2\n",
        "    return binary"
      ],
      "metadata": {
        "id": "_IUQwiJ1fMga"
      },
      "execution_count": null,
      "outputs": []
    },
    {
      "cell_type": "code",
      "source": [
        "#67.    Create a program to generate random passwords with specified complexity.\n",
        "\n",
        "import random\n",
        "import string\n",
        "\n",
        "def generate_password(length, complexity):\n",
        "    characters = string.ascii_letters + string.digits\n",
        "    if complexity == \"strong\":\n",
        "        characters += string.punctuation\n",
        "    password = ''.join(random.choice(characters) for _ in range(length))\n",
        "    return password\n",
        "\n",
        "# Example usage:\n",
        "password_length = 12\n",
        "password_complexity = \"strong\"  # or \"weak\"\n",
        "password = generate_password(password_length, password_complexity)\n",
        "print(password)"
      ],
      "metadata": {
        "colab": {
          "base_uri": "https://localhost:8080/"
        },
        "id": "JORMVm_1fSxC",
        "outputId": "0a565ceb-e09b-4948-9157-a04c82939426"
      },
      "execution_count": null,
      "outputs": [
        {
          "output_type": "stream",
          "name": "stdout",
          "text": [
            "5o3MCVhN-$<C\n"
          ]
        }
      ]
    },
    {
      "cell_type": "code",
      "source": [
        "#68.    Implement a text-based version of tic-tac-toe.\n",
        "\n",
        "def print_board(board):\n",
        "    for row in board:\n",
        "        print(\"|\".join(row))\n",
        "        print(\"-\" * 9)\n",
        "\n",
        "def check_win(board, player):\n",
        "    # Check rows\n",
        "    for row in board:\n",
        "        if all(cell == player for cell in row):\n",
        "            return True\n",
        "\n",
        "    # Check columns\n",
        "    for col in range(3):\n",
        "        if all(board[row][col] == player for row in range(3)):\n",
        "            return True\n",
        "\n",
        "    # Check diagonals\n",
        "    if all(board[i][i] == player for i in range(3)) or all(board[i][2-i] == player for i in range(3)):\n",
        "        return True\n",
        "\n",
        "    return False\n",
        "\n",
        "def play_tic_tac_toe():\n",
        "    board = [[\" \" for _ in range(3)] for _ in range(3)]\n",
        "    current_player = \"X\"\n",
        "\n",
        "    while True:\n",
        "        print_board(board)\n",
        "        row = int(input(f\"Player {current_player}, enter row (0, 1, or 2): \"))\n",
        "        col = int(input(f\"Player {current_player}, enter column (0, 1, or 2): \"))\n",
        "\n",
        "        if board[row][col] == \" \":\n",
        "            board[row][col] = current_player\n",
        "            if check_win(board, current_player):\n",
        "                print_board(board)\n",
        "                print(f\"Player {current_player} wins!\")\n",
        "                break\n",
        "            elif all(cell != \" \" for row in board for cell in row):\n",
        "                print_board(board)\n",
        "                print(\"It's a tie!\")\n",
        "                break\n",
        "            current_player = \"O\" if current_player == \"X\" else \"X\"\n",
        "        else:\n",
        "            print(\"That space is already taken. Try again.\")\n",
        "\n",
        "play_tic_tac_toe()"
      ],
      "metadata": {
        "id": "TyEpXR3Dfdvu"
      },
      "execution_count": null,
      "outputs": []
    },
    {
      "cell_type": "code",
      "source": [
        "#69.    Write a script that applies basic text analysis on a provided text file.\n",
        "\n",
        "def analyze_text(file_path):\n",
        "    with open(file_path, 'r') as f:\n",
        "        text = f.read()\n",
        "\n",
        "    # Basic analysis\n",
        "    word_count = len(text.split())\n",
        "    character_count = len(text)\n",
        "    line_count = text.count('\\n')\n",
        "\n",
        "    print(\"Word count:\", word_count)\n",
        "    print(\"Character count:\", character_count)\n",
        "    print(\"Line count:\", line_count)\n",
        "\n",
        "# Example usage\n",
        "file_path = \"your_text_file.txt\"\n",
        "analyze_text(file_path)"
      ],
      "metadata": {
        "id": "puN7iW3PgVaY"
      },
      "execution_count": null,
      "outputs": []
    },
    {
      "cell_type": "code",
      "source": [
        "#70.    Develop a simple task scheduler that runs functions at specified intervals.\n",
        "\n",
        "import time\n",
        "import threading\n",
        "\n",
        "def schedule_task(func, interval):\n",
        "    def wrapper():\n",
        "        while True:\n",
        "            func()\n",
        "            time.sleep(interval)\n",
        "    t = threading.Thread(target=wrapper)\n",
        "    t.start()\n",
        "\n",
        "# Example usage\n",
        "def print_hello():\n",
        "    print(\"Hello, world!\")\n",
        "\n",
        "schedule_task(print_hello, 5)  # Print \"Hello, world!\" every 5 seconds"
      ],
      "metadata": {
        "colab": {
          "base_uri": "https://localhost:8080/"
        },
        "id": "pGNxNWFKggFx",
        "outputId": "b904beac-cad3-45c5-f7ab-0c2cdd9a9cec"
      },
      "execution_count": null,
      "outputs": [
        {
          "output_type": "stream",
          "name": "stdout",
          "text": [
            "Hello, world!\n"
          ]
        }
      ]
    },
    {
      "cell_type": "code",
      "source": [
        "#71.    Create a budgeting application that tracks expenses using classes.\n",
        "\n",
        "class Expense:\n",
        "    def __init__(self, category, amount, date):\n",
        "        self.category = category\n",
        "        self.amount = amount\n",
        "        self.date = date\n",
        "\n",
        "class Budget:\n",
        "    def __init__(self, monthly_budget):\n",
        "        self.monthly_budget = monthly_budget\n",
        "        self.expenses = []\n",
        "\n",
        "    def add_expense(self, expense):\n",
        "        self.expenses.append(expense)\n",
        "\n",
        "    def total_expenses(self):\n",
        "        total = 0\n",
        "        for expense in self.expenses:\n",
        "            total += expense.amount\n",
        "        return total\n",
        "\n",
        "    def remaining_budget(self):\n",
        "        return self.monthly_budget - self.total_expenses()\n",
        "\n",
        "# Example usage\n",
        "budget = Budget(1000)\n",
        "expense1 = Expense(\"Groceries\", 200, \"2023-11-25\")\n",
        "expense2 = Expense(\"Rent\", 500, \"2023-12-01\")\n",
        "budget.add_expense(expense1)\n",
        "budget.add_expense(expense2)\n",
        "\n",
        "print(\"Total Expenses:\", budget.total_expenses())\n",
        "print(\"Remaining Budget:\", budget.remaining_budget())"
      ],
      "metadata": {
        "colab": {
          "base_uri": "https://localhost:8080/"
        },
        "id": "Mi1wEiQvgppW",
        "outputId": "6ba4cf1c-c2fd-474b-a987-d4992ec4f56c"
      },
      "execution_count": null,
      "outputs": [
        {
          "output_type": "stream",
          "name": "stdout",
          "text": [
            "Total Expenses: 700\n",
            "Remaining Budget: 300\n"
          ]
        }
      ]
    },
    {
      "cell_type": "code",
      "source": [
        "#72.    Write a program that analyzes and visualizes stock market data.\n",
        "\n",
        "import pandas as pd\n",
        "import matplotlib.pyplot as plt\n",
        "\n",
        "def analyze_stock(ticker):\n",
        "    df = pd.read_csv(f\"{ticker}.csv\")\n",
        "    df['Date'] = pd.to_datetime(df['Date'])\n",
        "    df.set_index('Date', inplace=True)\n",
        "\n",
        "    # Basic analysis\n",
        "    print(df.head())\n",
        "    print(df.describe())\n",
        "\n",
        "    # Plotting\n",
        "    plt.figure(figsize=(12, 6))\n",
        "    plt.plot(df['Close'])\n",
        "    plt.xlabel('Date')\n",
        "    plt.ylabel('Closing Price')\n",
        "    plt.title(f'Closing Price of {ticker}')\n",
        "    plt.show()\n",
        "\n",
        "# Example usage\n",
        "ticker = 'AAPL'\n",
        "analyze_stock(ticker)"
      ],
      "metadata": {
        "id": "ccrL73Nfg2o5"
      },
      "execution_count": null,
      "outputs": []
    },
    {
      "cell_type": "code",
      "source": [
        "#73.    Develop a Python script that automates file organization based on file types.\n",
        "\n",
        "import os\n",
        "import shutil\n",
        "\n",
        "def organize_files(directory):\n",
        "    file_types = {\n",
        "        'documents': ('.doc', '.docx', '.pdf', '.txt'),\n",
        "        'images': ('.jpg', '.jpeg', '.png', '.gif'),\n",
        "        'videos': ('.mp4', '.avi', '.mov'),\n",
        "        'music': ('.mp3', '.wav', '.flac'),\n",
        "        'archives': ('.zip', '.rar', '.7z'),\n",
        "        'others': ()\n",
        "    }\n",
        "\n",
        "    for root, dirs, files in os.walk(directory):\n",
        "        for file in files:\n",
        "            file_path = os.path.join(root, file)\n",
        "            file_extension = os.path.splitext(file)[1].lower()\n",
        "            found = False\n",
        "\n",
        "            for file_type, extensions in file_types.items():\n",
        "                if file_extension in extensions:\n",
        "                    file_type_dir = os.path.join(directory, file_type)\n",
        "                    if not os.path.exists(file_type_dir):\n",
        "                        os.makedirs(file_type_dir)\n",
        "                    shutil.move(file_path, file_type_dir)\n",
        "                    found = True\n",
        "                    break\n",
        "\n",
        "            if not found:\n",
        "                other_dir = os.path.join(directory, 'others')\n",
        "                if not os.path.exists(other_dir):\n",
        "                    os.makedirs(other_dir)\n",
        "                shutil.move(file_path, other_dir)\n",
        "\n",
        "# Example usage\n",
        "directory_to_organize = \"path/to/your/directory\"\n",
        "organize_files(directory_to_organize)"
      ],
      "metadata": {
        "id": "gymhtl9BhBVO"
      },
      "execution_count": null,
      "outputs": []
    },
    {
      "cell_type": "code",
      "source": [
        "#74.    Create a system for monitoring server performance metrics and notifying on anomalies.\n",
        "\n",
        "import psutil\n",
        "import smtplib\n",
        "import time\n",
        "\n",
        "def send_email(subject, body):\n",
        "    sender_email = \"your_email@gmail.com\"\n",
        "    password = \"your_password\"\n",
        "    receiver_email = \"recipient_email@gmail.com\"\n",
        "\n",
        "    message = f\"Subject: {subject}\\n\\n{body}\"\n",
        "\n",
        "    with smtplib.SMTP('smtp.gmail.com', 587) as smtp:\n",
        "        smtp.starttls()\n",
        "        smtp.login(sender_email, password)\n",
        "        smtp.sendmail(sender_email, receiver_email, message)\n",
        "\n",
        "def monitor_server():\n",
        "    while True:\n",
        "        cpu_usage = psutil.cpu_percent()\n",
        "        memory_usage = psutil.virtual_memory().percent\n",
        "        disk_usage = psutil.disk_usage('/').percent\n",
        "\n",
        "        if cpu_usage > 80 or memory_usage > 80 or disk_usage > 80:\n",
        "            subject = \"Server Performance Alert\"\n",
        "            body = f\"\"\"\n",
        "            CPU Usage: {cpu_usage}%\n",
        "            Memory Usage: {memory_usage}%\n",
        "            Disk Usage: {disk_usage}%\n",
        "            \"\"\"\n",
        "            send_email(subject, body)\n",
        "\n",
        "        time.sleep(60)  # Monitor every 60 seconds\n",
        "\n",
        "if __name__ == \"__main__\":\n",
        "    monitor_server()"
      ],
      "metadata": {
        "id": "ewLYKK34hMTd"
      },
      "execution_count": null,
      "outputs": []
    },
    {
      "cell_type": "code",
      "source": [
        "#75.    Build a simple e-commerce cart system using classes and functions.\n",
        "\n",
        "class Product:\n",
        "    def __init__(self, name, price):\n",
        "        self.name = name\n",
        "        self.price = price\n",
        "\n",
        "class Cart:\n",
        "    def __init__(self):\n",
        "        self.items = []\n",
        "\n",
        "    def add_item(self, product):\n",
        "        self.items.append(product)\n",
        "\n",
        "    def remove_item(self, product):\n",
        "        self.items.remove(product)\n",
        "\n",
        "    def calculate_total(self):\n",
        "        total = 0\n",
        "        for item in self.items:\n",
        "            total += item.price\n",
        "        return total\n",
        "\n",
        "# Example usage\n",
        "product1 = Product(\"Laptop\", 800)\n",
        "product2 = Product(\"Phone\", 500)\n",
        "\n",
        "cart = Cart()\n",
        "cart.add_item(product1)\n",
        "cart.add_item(product2)\n",
        "\n",
        "print(\"Total Price:\", cart.calculate_total())"
      ],
      "metadata": {
        "colab": {
          "base_uri": "https://localhost:8080/"
        },
        "id": "ZwzGW6O5hcMm",
        "outputId": "504ac1c1-ea9f-4558-d2b3-5d9679d1d870"
      },
      "execution_count": null,
      "outputs": [
        {
          "output_type": "stream",
          "name": "stdout",
          "text": [
            "Total Price: 1300\n"
          ]
        }
      ]
    },
    {
      "cell_type": "code",
      "source": [
        "#76.    Implement a user authentication system with classes and file storage.\n",
        "\n",
        "import json\n",
        "\n",
        "class User:\n",
        "    def __init__(self, username, password):\n",
        "        self.username = username\n",
        "        self.password = password\n",
        "\n",
        "class AuthenticationSystem:\n",
        "    def __init__(self, filename):\n",
        "        self.filename = filename\n",
        "        self.load_users()\n",
        "\n",
        "    def load_users(self):\n",
        "        try:\n",
        "            with open(self.filename, 'r') as f:\n",
        "                self.users = json.load(f)\n",
        "        except FileNotFoundError:\n",
        "            self.users = []\n",
        "\n",
        "    def save_users(self):\n",
        "        with open(self.filename, 'w') as f:\n",
        "            json.dump(self.users, f, indent=4)\n",
        "\n",
        "    def register_user(self, username, password):\n",
        "        new_user = User(username, password)\n",
        "        self.users.append(new_user)\n",
        "        self.save_users()\n",
        "\n",
        "    def login(self, username, password):\n",
        "        for user in self.users:\n",
        "            if user.username == username and user.password == password:\n",
        "                return True\n",
        "        return False\n",
        "\n",
        "# Example usage\n",
        "auth_system = AuthenticationSystem(\"users.json\")\n",
        "\n",
        "# Register a new user\n",
        "auth_system.register_user(\"user1\", \"password123\")\n",
        "\n",
        "# Login\n",
        "if auth_system.login(\"user1\", \"password123\"):\n",
        "    print(\"Login successful\")\n",
        "else:\n",
        "    print(\"Login failed\")"
      ],
      "metadata": {
        "id": "5ZOmYdmIhnWu"
      },
      "execution_count": null,
      "outputs": []
    },
    {
      "cell_type": "code",
      "source": [
        "#77.    Design a quiz application that evaluates user knowledge using functions and data structures.\n",
        "\n",
        "def ask_question(question, options):\n",
        "    print(question)\n",
        "    for i, option in enumerate(options):\n",
        "        print(f\"{i+1}. {option}\")\n",
        "    user_answer = int(input(\"Enter your answer (1-{}): \".format(len(options))))\n",
        "    return user_answer - 1\n",
        "\n",
        "def check_answer(correct_answer, user_answer):\n",
        "    return correct_answer == user_answer\n",
        "\n",
        "def quiz():\n",
        "    questions = [\n",
        "        (\"What is the capital of France?\", [\"Paris\", \"London\", \"Berlin\", \"Madrid\"]),\n",
        "        (\"What is the largest country in the world by land area?\", [\"Russia\", \"Canada\", \"China\", \"United States\"]),\n",
        "        (\"Who painted the Mona Lisa?\", [\"Leonardo da Vinci\", \"Michelangelo\", \"Pablo Picasso\", \"Vincent van Gogh\"])\n",
        "    ]\n",
        "\n",
        "    score = 0\n",
        "    for question, options in questions:\n",
        "        user_answer = ask_question(question, options)\n",
        "        correct_answer = 0  # Assuming the first option is correct\n",
        "        if check_answer(correct_answer, user_answer):\n",
        "            score += 1\n",
        "            print(\"Correct!\")\n",
        "        else:\n",
        "            print(\"Incorrect.\")\n",
        "\n",
        "    print(\"Your score:\", score, \"/\", len(questions))\n",
        "\n",
        "quiz()"
      ],
      "metadata": {
        "colab": {
          "base_uri": "https://localhost:8080/"
        },
        "id": "d63ed797hy0g",
        "outputId": "a36373a5-ee6f-4b85-9084-22d84d795fa3"
      },
      "execution_count": null,
      "outputs": [
        {
          "output_type": "stream",
          "name": "stdout",
          "text": [
            "What is the capital of France?\n",
            "1. Paris\n",
            "2. London\n",
            "3. Berlin\n",
            "4. Madrid\n",
            "Hello, world!\n",
            "Hello, world!\n",
            "Enter your answer (1-4): 1\n",
            "Correct!\n",
            "What is the largest country in the world by land area?\n",
            "1. Russia\n",
            "2. Canada\n",
            "3. China\n",
            "4. United States\n",
            "Hello, world!\n",
            "Enter your answer (1-4): 1\n",
            "Correct!\n",
            "Who painted the Mona Lisa?\n",
            "1. Leonardo da Vinci\n",
            "2. Michelangelo\n",
            "3. Pablo Picasso\n",
            "4. Vincent van Gogh\n",
            "Hello, world!\n",
            "Enter your answer (1-4): 1\n",
            "Hello, world!\n",
            "Correct!\n",
            "Your score: 3 / 3\n"
          ]
        }
      ]
    },
    {
      "cell_type": "code",
      "source": [
        "#78.    Create a simulation of a simple traffic light system.\n",
        "\n",
        "import time\n",
        "\n",
        "def traffic_light_simulation():\n",
        "    colors = [\"Red\", \"Yellow\", \"Green\"]\n",
        "    current_color = colors[0]\n",
        "\n",
        "    while True:\n",
        "        print(f\"Traffic light is {current_color}\")\n",
        "        time.sleep(5)  # Adjust the duration as needed\n",
        "\n",
        "        if current_color == \"Red\":\n",
        "            current_color = \"Green\"\n",
        "        elif current_color == \"Green\":\n",
        "            current_color = \"Yellow\"\n",
        "        elif current_color == \"Yellow\":\n",
        "            current_color = \"Red\"\n",
        "\n",
        "traffic_light_simulation()"
      ],
      "metadata": {
        "id": "-JGuF8ObiDdv"
      },
      "execution_count": null,
      "outputs": []
    },
    {
      "cell_type": "code",
      "source": [
        "#79.    Develop a content management system using object-oriented principles and file handling.\n",
        "\n",
        "import json\n",
        "\n",
        "class Article:\n",
        "    def __init__(self, title, content, author):\n",
        "        self.title = title\n",
        "        self.content = content\n",
        "        self.author = author\n",
        "\n",
        "class CMS:\n",
        "    def __init__(self, filename):\n",
        "        self.filename = filename\n",
        "        self.load_articles()\n",
        "\n",
        "    def load_articles(self):\n",
        "        try:\n",
        "            with open(self.filename, 'r') as f:\n",
        "                self.articles = json.load(f)\n",
        "        except FileNotFoundError:\n",
        "            self.articles = []\n",
        "\n",
        "    def save_articles(self):\n",
        "        with open(self.filename, 'w') as f:\n",
        "            json.dump(self.articles, f, indent=4)\n",
        "\n",
        "    def add_article(self, article):\n",
        "        self.articles.append(article.__dict__)\n",
        "        self.save_articles()\n",
        "\n",
        "    def remove_article(self, title):\n",
        "        for i, article in enumerate(self.articles):\n",
        "            if article['title'] == title:\n",
        "                del self.articles[i]\n",
        "                self.save_articles()\n",
        "                return\n",
        "        print(\"Article not found\")\n",
        "\n",
        "    def list_articles(self):\n",
        "        for article in self.articles:\n",
        "            print(f\"Title: {article['title']}\\nAuthor: {article['author']}\\n\")\n",
        "\n",
        "# Example usage\n",
        "cms = CMS('articles.json')\n",
        "\n",
        "article1 = Article(\"Python Tutorial\", \"Learn Python programming\", \"Alice\")\n",
        "cms.add_article(article1)\n",
        "\n",
        "cms.list_articles()"
      ],
      "metadata": {
        "colab": {
          "base_uri": "https://localhost:8080/"
        },
        "id": "jczYXyPEiQ92",
        "outputId": "014f08eb-eb51-4462-9b99-26c6f2769d72"
      },
      "execution_count": null,
      "outputs": [
        {
          "output_type": "stream",
          "name": "stdout",
          "text": [
            "Title: Python Tutorial\n",
            "Author: Alice\n",
            "\n"
          ]
        }
      ]
    }
  ]
}